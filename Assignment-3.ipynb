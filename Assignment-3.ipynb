{
 "cells": [
  {
   "cell_type": "code",
   "execution_count": 4,
   "metadata": {},
   "outputs": [
    {
     "name": "stdout",
     "output_type": "stream",
     "text": [
      "P(B|A) 3/100\n"
     ]
    }
   ],
   "source": [
    "#Question 1.\n",
    "from __future__ import division\n",
    "from fractions import Fraction\n",
    "def Event_Probability(AB,B,A):\n",
    "    BA=\"%.2f\"%((AB*B)/A)\n",
    "    print(\"P(B|A)\",Fraction(BA))\n",
    "    \n",
    "Event_Probability(2/36,6/36,11/36)"
   ]
  },
  {
   "cell_type": "code",
   "execution_count": 8,
   "metadata": {},
   "outputs": [
    {
     "name": "stdout",
     "output_type": "stream",
     "text": [
      "0.5882352941176471\n"
     ]
    }
   ],
   "source": [
    "# Question 2.\n",
    "# Bag I contains 4 white and 6 black balls\n",
    "BagI_Probability= \"%.2f\"%((6 /10)*(1/2))\n",
    "\n",
    "# Bag II contains 4 white and 3 black balls\n",
    "BagII_Probability=\"%.2f\"%((3 / 7)*(1/2))\n",
    "\n",
    "# One ball is drawn at random from one of the bags and it is found to be black and it was drawn from Bag I.\n",
    "Event_Probability= float(BagI_Probability)/(float (BagI_Probability)+float (BagII_Probability))\n",
    "\n",
    "print(Event_Probability)"
   ]
  },
  {
   "cell_type": "code",
   "execution_count": 10,
   "metadata": {},
   "outputs": [
    {
     "name": "stdout",
     "output_type": "stream",
     "text": [
      "Probability of Truth=  0.286\n"
     ]
    }
   ],
   "source": [
    "#Question 3.\n",
    "Truth_Probability_4=(2/3)*(1/6)\n",
    "Lie_Probability_4=(1/3)*(5/6)\n",
    "\n",
    "Probability=\"%.3f\"%(Truth_Probability_4/(Truth_Probability_4+Lie_Probability_4))\n",
    "print(\"Probability of Truth= \",(Probability))"
   ]
  },
  {
   "cell_type": "code",
   "execution_count": null,
   "metadata": {},
   "outputs": [],
   "source": []
  }
 ],
 "metadata": {
  "kernelspec": {
   "display_name": "Python 3",
   "language": "python",
   "name": "python3"
  },
  "language_info": {
   "codemirror_mode": {
    "name": "ipython",
    "version": 3
   },
   "file_extension": ".py",
   "mimetype": "text/x-python",
   "name": "python",
   "nbconvert_exporter": "python",
   "pygments_lexer": "ipython3",
   "version": "3.6.4"
  }
 },
 "nbformat": 4,
 "nbformat_minor": 2
}
