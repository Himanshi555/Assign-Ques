{
 "cells": [
  {
   "cell_type": "markdown",
   "metadata": {},
   "source": [
    "# Q.1- What is the probability of a person playing when the weather is sunny? Find P(Yes|Sunny)."
   ]
  },
  {
   "cell_type": "markdown",
   "metadata": {},
   "source": [
    "                                Weather     Play\n",
    "                                 Sunny       No\n",
    "                                 Overcast    Yes\n",
    "                                 Rainy       Yes\n",
    "                                 Sunny       Yes\n",
    "                                 Sunny       Yes\n",
    "                                 Overcast    Yes\n",
    "                                 Rainy       No\n",
    "                                 Rainy       No\n",
    "                                 Sunny       Yes\n",
    "                                 Rainy       Yes\n",
    "                                 Sunny       No\n",
    "                                 Overcast    Yes\n",
    "                                 Overcast    Yes\n",
    "                                 Rainy       No"
   ]
  },
  {
   "cell_type": "code",
   "execution_count": 1,
   "metadata": {},
   "outputs": [],
   "source": [
    "#Convert the data set into a frequency table\n",
    "\n",
    "# probality of play yes when whether is sunny\n",
    "sunny1=3\n",
    "# probality of play no when the whether is sunny\n",
    "sunny2=2\n",
    "# probality of play yes when the whether is Overcast\n",
    "overcast1=4\n",
    "# probality of play no when the whether is Overcast\n",
    "overcast2=0\n",
    "# probality of play yes when the whether is Rainy\n",
    "rainy1=2\n",
    "# probality of play no when the whether is Rainy\n",
    "rainy2=3"
   ]
  },
  {
   "cell_type": "code",
   "execution_count": 3,
   "metadata": {},
   "outputs": [
    {
     "name": "stdout",
     "output_type": "stream",
     "text": [
      "14\n"
     ]
    }
   ],
   "source": [
    "# Total Yes and No \n",
    "Total_yes=9\n",
    "Total_no=5\n",
    "Total= Total_yes + Total_no\n",
    "print(Total)"
   ]
  },
  {
   "cell_type": "code",
   "execution_count": 15,
   "metadata": {},
   "outputs": [
    {
     "name": "stdout",
     "output_type": "stream",
     "text": [
      "P(Sunny|Yes)= 0.3333333333333333\n",
      "P(Yes)= 0.6428571428571429\n",
      "P(Sunny)= 0.35714285714285715\n",
      "P(Yes) / P(Sunny)= 1.8\n",
      "P(Yes|Sunny)= 0.6\n"
     ]
    }
   ],
   "source": [
    "# P(Yes | Sunny) = P( Sunny | Yes) * P(Yes) / P(Sunny)\n",
    "\n",
    "# P( Sunny | Yes)\n",
    "P= sunny1/Total_yes\n",
    "print(\"P(Sunny|Yes)=\",P)\n",
    "\n",
    "# P(Yes)\n",
    "p_yes= Total_yes/Total\n",
    "print(\"P(Yes)=\",p_yes)\n",
    "\n",
    "# P(Sunny)\n",
    "Total_sunny=5\n",
    "P_sunny=Total_sunny/Total\n",
    "print(\"P(Sunny)=\",P_sunny)\n",
    "\n",
    "# P(Yes | Sunny) = P( Sunny | Yes) * P(Yes) / P(Sunny)\n",
    "# P(Yes) / P(Sunny)\n",
    "A= p_yes/ P_sunny\n",
    "print(\"P(Yes) / P(Sunny)=\",A)\n",
    "Prob = P*A\n",
    "print(\"P(Yes|Sunny)=\",Prob)\n"
   ]
  },
  {
   "cell_type": "code",
   "execution_count": 16,
   "metadata": {},
   "outputs": [],
   "source": [
    "# Question 2.\n",
    "import numpy as np\n",
    "import pandas as pd"
   ]
  },
  {
   "cell_type": "code",
   "execution_count": 17,
   "metadata": {},
   "outputs": [],
   "source": [
    "# Load datasets iris from sklearn\n",
    "from sklearn.datasets import load_iris\n",
    "data=load_iris()\n",
    "x=data['data']\n",
    "y=data['target']"
   ]
  },
  {
   "cell_type": "code",
   "execution_count": 18,
   "metadata": {},
   "outputs": [],
   "source": [
    "from sklearn.model_selection import train_test_split as tts\n",
    "train_x, test_x, train_y, test_y = tts(x, y, test_size = 0.2)"
   ]
  },
  {
   "cell_type": "code",
   "execution_count": 19,
   "metadata": {},
   "outputs": [
    {
     "data": {
      "text/plain": [
       "GaussianNB(priors=None)"
      ]
     },
     "execution_count": 19,
     "metadata": {},
     "output_type": "execute_result"
    }
   ],
   "source": [
    "from sklearn.naive_bayes import GaussianNB\n",
    "gnb = GaussianNB()\n",
    "gnb.fit(train_x, train_y)"
   ]
  },
  {
   "cell_type": "code",
   "execution_count": 20,
   "metadata": {},
   "outputs": [],
   "source": [
    "ypred = gnb.predict(test_x)"
   ]
  },
  {
   "cell_type": "code",
   "execution_count": 21,
   "metadata": {},
   "outputs": [
    {
     "name": "stdout",
     "output_type": "stream",
     "text": [
      "    Actual  Predicted\n",
      "0        1          1\n",
      "1        2          2\n",
      "2        0          0\n",
      "3        2          2\n",
      "4        2          2\n",
      "5        1          2\n",
      "6        1          2\n",
      "7        0          0\n",
      "8        2          2\n",
      "9        1          1\n",
      "10       0          0\n",
      "11       2          2\n",
      "12       0          0\n",
      "13       0          0\n",
      "14       2          2\n",
      "15       0          0\n",
      "16       1          1\n",
      "17       0          0\n",
      "18       1          1\n",
      "19       1          1\n",
      "20       1          1\n",
      "21       0          0\n",
      "22       1          1\n",
      "23       0          0\n",
      "24       2          2\n",
      "25       2          2\n",
      "26       1          1\n",
      "27       0          0\n",
      "28       2          1\n",
      "29       0          0\n"
     ]
    }
   ],
   "source": [
    "result=pd.DataFrame({'Actual':test_y,'Predicted':ypred})\n",
    "print(result)"
   ]
  },
  {
   "cell_type": "code",
   "execution_count": 26,
   "metadata": {},
   "outputs": [
    {
     "name": "stdout",
     "output_type": "stream",
     "text": [
      "[[11  0  0]\n",
      " [ 0  8  2]\n",
      " [ 0  1  8]]\n",
      "             precision    recall  f1-score   support\n",
      "\n",
      "          0       1.00      1.00      1.00        11\n",
      "          1       0.89      0.80      0.84        10\n",
      "          2       0.80      0.89      0.84         9\n",
      "\n",
      "avg / total       0.90      0.90      0.90        30\n",
      "\n"
     ]
    }
   ],
   "source": [
    "from sklearn.metrics import classification_report as cr, confusion_matrix as cm, r2_score as rs\n",
    "print(cm(test_y,ypred))\n",
    "print(cr(test_y,ypred))"
   ]
  },
  {
   "cell_type": "code",
   "execution_count": 27,
   "metadata": {},
   "outputs": [
    {
     "name": "stdout",
     "output_type": "stream",
     "text": [
      "84.8993288590604\n"
     ]
    }
   ],
   "source": [
    "print(rs(test_y,ypred)*100)"
   ]
  },
  {
   "cell_type": "code",
   "execution_count": 28,
   "metadata": {},
   "outputs": [
    {
     "data": {
      "text/plain": [
       "MultinomialNB(alpha=1.0, class_prior=None, fit_prior=True)"
      ]
     },
     "execution_count": 28,
     "metadata": {},
     "output_type": "execute_result"
    }
   ],
   "source": [
    "# Use MultinomialNB \n",
    "from sklearn.naive_bayes import MultinomialNB\n",
    "model_MNB=MultinomialNB()\n",
    "\n",
    "model_MNB.fit(train_x,train_y)"
   ]
  },
  {
   "cell_type": "code",
   "execution_count": 29,
   "metadata": {},
   "outputs": [],
   "source": [
    "prediction_MNB=model_MNB.predict(test_x)"
   ]
  },
  {
   "cell_type": "code",
   "execution_count": 30,
   "metadata": {},
   "outputs": [
    {
     "name": "stdout",
     "output_type": "stream",
     "text": [
      "    Actual  Prediction\n",
      "0        1           1\n",
      "1        2           2\n",
      "2        0           0\n",
      "3        2           2\n",
      "4        2           2\n",
      "5        1           2\n",
      "6        1           1\n",
      "7        0           0\n",
      "8        2           2\n",
      "9        1           1\n",
      "10       0           0\n",
      "11       2           2\n",
      "12       0           0\n",
      "13       0           0\n",
      "14       2           2\n",
      "15       0           0\n",
      "16       1           1\n",
      "17       0           0\n",
      "18       1           1\n",
      "19       1           1\n",
      "20       1           2\n",
      "21       0           0\n",
      "22       1           2\n",
      "23       0           0\n",
      "24       2           2\n",
      "25       2           2\n",
      "26       1           1\n",
      "27       0           0\n",
      "28       2           2\n",
      "29       0           0\n"
     ]
    }
   ],
   "source": [
    "results_MNB=pd.DataFrame({'Prediction':prediction_MNB,'Actual':test_y})\n",
    "print(results_MNB)"
   ]
  },
  {
   "cell_type": "code",
   "execution_count": 31,
   "metadata": {},
   "outputs": [
    {
     "name": "stdout",
     "output_type": "stream",
     "text": [
      "[[11  0  0]\n",
      " [ 0  7  3]\n",
      " [ 0  0  9]]\n",
      "             precision    recall  f1-score   support\n",
      "\n",
      "          0       1.00      1.00      1.00        11\n",
      "          1       1.00      0.70      0.82        10\n",
      "          2       0.75      1.00      0.86         9\n",
      "\n",
      "avg / total       0.93      0.90      0.90        30\n",
      "\n"
     ]
    }
   ],
   "source": [
    "print(cm(test_y,prediction_MNB))\n",
    "print(cr(test_y,prediction_MNB))"
   ]
  },
  {
   "cell_type": "code",
   "execution_count": 32,
   "metadata": {},
   "outputs": [
    {
     "name": "stdout",
     "output_type": "stream",
     "text": [
      "84.8993288590604\n"
     ]
    }
   ],
   "source": [
    "print(rs(test_y,prediction_MNB)*100)"
   ]
  },
  {
   "cell_type": "code",
   "execution_count": null,
   "metadata": {},
   "outputs": [],
   "source": []
  }
 ],
 "metadata": {
  "kernelspec": {
   "display_name": "Python 3",
   "language": "python",
   "name": "python3"
  },
  "language_info": {
   "codemirror_mode": {
    "name": "ipython",
    "version": 3
   },
   "file_extension": ".py",
   "mimetype": "text/x-python",
   "name": "python",
   "nbconvert_exporter": "python",
   "pygments_lexer": "ipython3",
   "version": "3.6.4"
  }
 },
 "nbformat": 4,
 "nbformat_minor": 2
}
